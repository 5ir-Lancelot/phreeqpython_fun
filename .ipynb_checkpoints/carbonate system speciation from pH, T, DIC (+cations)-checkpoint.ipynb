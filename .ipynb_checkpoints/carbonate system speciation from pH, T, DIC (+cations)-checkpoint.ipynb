{
 "cells": [
  {
   "cell_type": "markdown",
   "id": "21ab3fb2",
   "metadata": {},
   "source": [
    "# Get water speciation from T, pH and DIC \n",
    "# inverse calculations\n",
    "Carbonate system calculation.Input T, pH, DIC. Assuming metal cations + carbonate alkalinity"
   ]
  },
  {
   "cell_type": "code",
   "execution_count": 36,
   "id": "e71c1c46",
   "metadata": {},
   "outputs": [],
   "source": [
    "from phreeqpython import PhreeqPython\n",
    "\n",
    "import numpy as np\n",
    "\n",
    "\n",
    "from matplotlib import pyplot as plt\n",
    "\n",
    "import pandas as  pd"
   ]
  },
  {
   "cell_type": "code",
   "execution_count": 37,
   "id": "6240b667",
   "metadata": {},
   "outputs": [],
   "source": [
    "# use the vitens database for all constants\n",
    "\n",
    "\n",
    "# create new PhreeqPython instance\n",
    "\n",
    "#pp = PhreeqPython(database='minteq.v4.dat')\n",
    "\n",
    "pp = PhreeqPython(database='vitens.dat')\n"
   ]
  },
  {
   "cell_type": "code",
   "execution_count": 51,
   "id": "322bdfd7",
   "metadata": {},
   "outputs": [
    {
     "name": "stdout",
     "output_type": "stream",
     "text": [
      "log10 CO2(g)= -3.3010299956639813\n"
     ]
    }
   ],
   "source": [
    "# calculate CO2(g) SI (how much CO2 in the gas phase )\n",
    "\n",
    "#concentration CO2\n",
    "p=500 # ppm\n",
    "\n",
    "#partial pressure pCO2 in atm\n",
    "pCO2=p*1e-6 \n",
    "\n",
    "\n",
    " #phreeqc always uses log10 values\n",
    "input_pCO2=np.log10(pCO2)\n",
    "\n",
    "print('log10 CO2(g)=',input_pCO2)"
   ]
  },
  {
   "cell_type": "code",
   "execution_count": 62,
   "id": "ad3af09d",
   "metadata": {},
   "outputs": [
    {
     "name": "stdout",
     "output_type": "stream",
     "text": [
      "0.04999999990340367\n",
      "TA= 0.05999240580800308\n"
     ]
    }
   ],
   "source": [
    "#include DIC\n",
    "\n",
    "# david Parkhust answer\n",
    "# Essentially, carbon input is either Alkalinity or total dissolved inorganic carbon (C(4)).\n",
    "\n",
    "#C(4) means DIC\n",
    "\n",
    "# In der Hydrochemie verwendet man oftmals anstelle des DIC die präzisere Bezeichnung C(4) – das ist Kohlenstoff in der Oxidationsstufe IV\n",
    "\n",
    "\n",
    "DIC=50\n",
    "\n",
    "pH=9.5\n",
    "\n",
    "#phreeqc ignores the charge imbalance created\n",
    "\n",
    "solution2 = pp.add_solution({'units':'mmol/kgw',\n",
    "                                 'pH': pH,\n",
    "                                 'density': 1.000,\n",
    "                                 'temp': 25.0,\n",
    "                                 'C(4)':DIC,\n",
    "                                })\n",
    "\n",
    "#make sure  the unit is mol\n",
    "co2=solution2.total('CO2',units='mol')\n",
    "hco3=solution2.total('HCO3',units='mol')\n",
    "co3=solution2.total('CO3',units='mol')\n",
    "\n",
    "# get the H and OH concentrations\n",
    "h=solution2.species['H+']   # species are in mol/l\n",
    "oh=solution2.species['OH-'] \n",
    "\n",
    "\n",
    "#get alkalinity\n",
    "TA_out=solution2\n",
    "\n",
    "# simple \n",
    "dic=co2+hco3+co3\n",
    "\n",
    "\n",
    "\n",
    "TA=hco3+2*co3+oh-h\n",
    "\n",
    "print(dic)\n",
    "\n",
    "print('TA=',TA)\n",
    "\n",
    "#alkalinity\n",
    "\n"
   ]
  },
  {
   "cell_type": "code",
   "execution_count": 63,
   "id": "06509ade",
   "metadata": {},
   "outputs": [
    {
     "data": {
      "text/plain": [
       "{'CO2': 2.3714242891187713e-05,\n",
       " 'CO3-2': 0.00997741335510881,\n",
       " 'H+': 3.6651271156362053e-10,\n",
       " 'H2': 7.014595597507954e-31,\n",
       " 'H2O': 55.50929780738274,\n",
       " 'HCO3-': 0.03999887230540367,\n",
       " 'O2': 8.227415900806685e-33,\n",
       " 'OH-': 3.870715889449161e-05}"
      ]
     },
     "execution_count": 63,
     "metadata": {},
     "output_type": "execute_result"
    }
   ],
   "source": [
    "#get the species in the water \n",
    "solution2.species"
   ]
  },
  {
   "cell_type": "code",
   "execution_count": 64,
   "id": "fccd7385",
   "metadata": {},
   "outputs": [
    {
     "data": {
      "text/plain": [
       "{'CO2(g)': -3.1596163536019057,\n",
       " 'Fix_pH': -9.5,\n",
       " 'H2(g)': -27.048923033678367,\n",
       " 'H2O(g)': -1.5028233204748613,\n",
       " 'O2(g)': -29.188380295524478}"
      ]
     },
     "execution_count": 64,
     "metadata": {},
     "output_type": "execute_result"
    }
   ],
   "source": [
    "#get SI of the phases\n",
    "solution2.phases"
   ]
  },
  {
   "cell_type": "markdown",
   "id": "c9e37d33",
   "metadata": {},
   "source": [
    "# Code for Johannes\n",
    "\n",
    "The dataframe 'df' is the table in which all data are saved . It can be uploaded at the beginning of the code\n"
   ]
  },
  {
   "cell_type": "code",
   "execution_count": null,
   "id": "00cba80b",
   "metadata": {},
   "outputs": [],
   "source": []
  },
  {
   "cell_type": "code",
   "execution_count": null,
   "id": "f672a73b",
   "metadata": {},
   "outputs": [],
   "source": []
  },
  {
   "cell_type": "code",
   "execution_count": null,
   "id": "c88b085a",
   "metadata": {},
   "outputs": [],
   "source": [
    "#check for all cations and anions\n",
    "col_check=[('IC_F','[umol_l]'),('IC_Cl','[umol_l]'),('IC_NO2','[umol_l]'),('IC_Br','[umol_l]'),('IC_NO3','[umol_l]'),('IC_SO4','[umol_l]'),\\\n",
    "           ('IC_Li','[umol_l]'),('IC_Na','[umol_l]'),('IC_NH4','[umol_l]'),('IC_K','[umol_l]'),('IC_Ca','[umol_l]'),('IC_Mg','[umol_l]')]\n",
    "\n",
    "\n",
    "\n",
    "\n",
    "col_anions=[('IC_F','[umol_l]'),('IC_Cl','[umol_l]'),('IC_NO2','[umol_l]'),('IC_Br','[umol_l]'),('IC_NO3','[umol_l]'),('IC_SO4','[umol_l]')]\n",
    "\n",
    "col_cations=[('IC_Li','[umol_l]'),('IC_Na','[umol_l]'),('IC_NH4','[umol_l]'),('IC_K','[umol_l]'),('ICP_Ca','[umol_l]'),('ICP_Mg','[umol_l]')]\n",
    "\n",
    "\n",
    "\n",
    "\n",
    "\n",
    "#check if there are IC data\n",
    "for k in df.index:\n",
    "\n",
    "    #check if all columns are nan (then no calculation TA_carb+TA_water calculation need to be performed)\n",
    "    #np.where(condition) returns True or False\n",
    "    if df.loc[k,col_check].isnull().all():\n",
    "        \n",
    "        #when there are no IC data then set the value to nan\n",
    "        df.loc[k,('A_C_model_2', 'ueq_kg')]=np.nan\n",
    "        \n",
    "        #print('yes')\n",
    "        \n",
    "    else:\n",
    "        \n",
    "        #get the cations as a list\n",
    "        #make a dict for the cations\n",
    "        cat=df.loc[k,col_cations].to_dict()\n",
    "        \n",
    "        #make a dict for the anions\n",
    "        an=df.loc[k,col_anions].to_dict()\n",
    "        \n",
    "        #call the function\n",
    "        #convert pH into numeric\n",
    "        pH=df.loc[k,('final_pH','')]\n",
    "        \n",
    "        DIC=df.loc[k,('DIC','umol/L')]\n",
    "        \n",
    "        # the nan values are taken as null with np.nan_to_num\n",
    "        sol = pp.add_solution({'units':'umol/kgw',\n",
    "                                     'pH': pH,\n",
    "                                     'density': 1.000,\n",
    "                                     'temp': 15,\n",
    "                                     #include the cations\n",
    "                                     'Li':np.nan_to_num(cat[('IC_Li', '[umol_l]')]),\n",
    "                                     'Na':np.nan_to_num(cat[('IC_Na', '[umol_l]')]),\n",
    "                                     'N(-3)':np.nan_to_num(cat[('IC_NH4', '[umol_l]')]), #N(-3) stands for NH4\n",
    "                                     'K':np.nan_to_num(cat[('IC_K','[umol_l]')]),\n",
    "                                     'Ca':np.nan_to_num(cat[('ICP_Ca','[umol_l]')]),\n",
    "                                     'Mg':np.nan_to_num(cat[('ICP_Mg','[umol_l]')]),\n",
    "                                     #include the anions\n",
    "                                     'F':np.nan_to_num(an[('IC_F','[umol_l]')]),\n",
    "                                     'Cl':np.nan_to_num(an[('IC_Cl','[umol_l]')]),\n",
    "                                     'N(3)':np.nan_to_num(an[('IC_NO2','[umol_l]')]),# N(-3) stands for NO2-\n",
    "                                     \n",
    "                                     \n",
    "                                     #enter total inorganic carbon (C or C(4))\n",
    "                                     #include CO2 as carbon (IV) oxide  (CO2) all C in the configuration\n",
    "                                     #'C(4)':DIC,\n",
    "                                     #test different notation\n",
    "                                     'C(4)':DIC\n",
    "                                    })\n",
    "        \n",
    "        \n",
    "        #remove the carbonate alkalinity (+OH- and -H+)\n",
    "        \n",
    "        #TA_c=HCO3+2*CO3+OH-H\n",
    "    \n",
    "        TA_c=sol.total('HCO3',units='mol')+2*sol.total('CO3',units='mol')+sol.species['OH-']-sol.species['H+']\n",
    "\n",
    "        #conversion in ueq/kgw\n",
    "        TA_c=TA_c*1e6\n",
    "\n",
    "        df.loc[k, ('A_C_model_2', 'ueq_kg')] = TA_c\n",
    "        \n",
    "        df.loc[k, ('A_C_model_2', 'meq_kg')] = TA_c/1000\n",
    "        \n",
    "        df.loc[k,('delta_model_2','ueq_kg')]=df.loc[k,('TA','ueq/kgw')]-TA_c\n",
    "        \n",
    "        df.loc[k,('delta_model_2','meq_kg')]=(df.loc[k,('TA','ueq/kgw')]-TA_c)/1000\n",
    "        #not yet fully implemented"
   ]
  }
 ],
 "metadata": {
  "kernelspec": {
   "display_name": "Python 3 (ipykernel)",
   "language": "python",
   "name": "python3"
  },
  "language_info": {
   "codemirror_mode": {
    "name": "ipython",
    "version": 3
   },
   "file_extension": ".py",
   "mimetype": "text/x-python",
   "name": "python",
   "nbconvert_exporter": "python",
   "pygments_lexer": "ipython3",
   "version": "3.10.13"
  }
 },
 "nbformat": 4,
 "nbformat_minor": 5
}
