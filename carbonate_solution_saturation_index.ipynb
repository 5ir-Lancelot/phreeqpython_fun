{
 "cells": [
  {
   "cell_type": "markdown",
   "id": "f92df8c0",
   "metadata": {},
   "source": [
    "# Get water speciation from T, pH and DIC \n",
    "# inverse calculations\n",
    "Carbonate system calculation.Input T, pH, DIC. Assuming metal cations + carbonate alkalinity.\n",
    "\n",
    "With this script you can calculate the charge contribution or contribution to alkalinity of carbonate species for a given pH."
   ]
  },
  {
   "cell_type": "code",
   "execution_count": 270,
   "id": "eb093564",
   "metadata": {},
   "outputs": [],
   "source": [
    "from phreeqpython import PhreeqPython\n",
    "\n",
    "import numpy as np\n",
    "\n",
    "\n",
    "from matplotlib import pyplot as plt\n",
    "\n",
    "import pandas as  pd"
   ]
  },
  {
   "cell_type": "code",
   "execution_count": 271,
   "id": "f00de803",
   "metadata": {},
   "outputs": [],
   "source": [
    "# use the vitens database for all constants\n",
    "\n",
    "\n",
    "# create new PhreeqPython instance\n",
    "\n",
    "#pp = PhreeqPython(database='minteq.v4.dat')\n",
    "\n",
    "pp = PhreeqPython(database='vitens.dat')\n"
   ]
  },
  {
   "cell_type": "code",
   "execution_count": 272,
   "id": "a1778678",
   "metadata": {},
   "outputs": [
    {
     "name": "stdout",
     "output_type": "stream",
     "text": [
      "log10 CO2(g)= -3.3010299956639813\n"
     ]
    }
   ],
   "source": [
    "# calculate CO2(g) SI (how much CO2 in the gas phase )\n",
    "\n",
    "#concentration CO2\n",
    "p=500 # ppm\n",
    "\n",
    "#partial pressure pCO2 in atm\n",
    "pCO2=p*1e-6 \n",
    "\n",
    "\n",
    " #phreeqc always uses log10 values\n",
    "input_pCO2=np.log10(pCO2)\n",
    "\n",
    "print('log10 CO2(g)=',input_pCO2)"
   ]
  },
  {
   "cell_type": "code",
   "execution_count": 273,
   "id": "df41523a",
   "metadata": {},
   "outputs": [
    {
     "name": "stdout",
     "output_type": "stream",
     "text": [
      "0.003913594586696361\n",
      "TA= 0.004169013220244283\n",
      "pure carbonate alkalinity= 0.004169013220244283\n"
     ]
    }
   ],
   "source": [
    "#include DIC\n",
    "\n",
    "# david Parkhust answer\n",
    "# Essentially, carbon input is either Alkalinity or total dissolved inorganic carbon (C(4)).\n",
    "\n",
    "# C(4) means DIC\n",
    "\n",
    "# In der Hydrochemie verwendet man oftmals anstelle des DIC die präzisere Bezeichnung C(4) – das ist Kohlenstoff \n",
    "# in der Oxidationsstufe IV\n",
    "\n",
    "\n",
    "DIC=5\n",
    "\n",
    "#pH=9.53\n",
    "\n",
    "#phreeqc ignores the charge imbalance created\n",
    "# it ignores other involved species \n",
    "# assumtion about cations to make the result more reliable \n",
    "\n",
    "solution2 = pp.add_solution({'units':'mmol/kgw',\n",
    "                                 'density': 1.000,\n",
    "                                 'temp': 25.0,\n",
    "                                 'Ca':DIC/2,\n",
    "                                 'C(4)':DIC,\n",
    "                                }).equalize(['CO2(g)'], [input_pCO2])\n",
    "\n",
    "\n",
    "\n",
    "#make sure  the unit is mol\n",
    "co2=solution2.total('CO2',units='mol')\n",
    "hco3=solution2.total('HCO3',units='mol')\n",
    "co3=solution2.total('CO3',units='mol')\n",
    "\n",
    "# get the H and OH concentrations\n",
    "h=solution2.species['H+']   # species are in mol/l\n",
    "oh=solution2.species['OH-'] \n",
    "\n",
    "\n",
    "#get alkalinity\n",
    "TA_out=solution2\n",
    "\n",
    "# simple \n",
    "dic=co2+hco3+co3\n",
    "\n",
    "\n",
    "#charge contribution\n",
    "#carbonate + hydroxide - acid \n",
    "TA=hco3+2*co3+oh-h\n",
    "\n",
    "print(dic)\n",
    "\n",
    "print('TA=',TA)\n",
    "\n",
    "#alkalinity\n",
    "print('pure carbonate alkalinity=',TA)\n",
    "\n"
   ]
  },
  {
   "cell_type": "code",
   "execution_count": 274,
   "id": "486c36da",
   "metadata": {
    "scrolled": true
   },
   "outputs": [
    {
     "data": {
      "text/plain": [
       "{'CH4': 4.326593857499193e-25,\n",
       " 'CO2': 1.7256153857395685e-05,\n",
       " 'CO3-2': 9.101963590581142e-05,\n",
       " 'Ca+2': 0.0022497777334057646,\n",
       " 'CaCO3': 0.00017695827336814692,\n",
       " 'CaHCO3+': 7.313977707935345e-05,\n",
       " 'CaOH+': 1.2422362455885257e-07,\n",
       " 'H+': 2.53507610452865e-09,\n",
       " 'H2': 7.1049269248800196e-15,\n",
       " 'H2O': 55.50955840300623,\n",
       " 'HCO3-': 0.0035552207464856532,\n",
       " 'O2': 0.0,\n",
       " 'OH-': 4.699413207464101e-06}"
      ]
     },
     "execution_count": 274,
     "metadata": {},
     "output_type": "execute_result"
    }
   ],
   "source": [
    "#get the species in the water \n",
    "solution2.species"
   ]
  },
  {
   "cell_type": "code",
   "execution_count": 275,
   "id": "38cea443",
   "metadata": {},
   "outputs": [
    {
     "data": {
      "text/plain": [
       "-3.3010311978261866"
      ]
     },
     "execution_count": 275,
     "metadata": {},
     "output_type": "execute_result"
    }
   ],
   "source": [
    "#get SI of the phases\n",
    "solution2.phases['CO2(g)']"
   ]
  },
  {
   "cell_type": "code",
   "execution_count": 276,
   "id": "0014c648",
   "metadata": {},
   "outputs": [],
   "source": [
    "# check whether it is reliable with solution phases\n",
    "\n"
   ]
  },
  {
   "cell_type": "code",
   "execution_count": 277,
   "id": "980e449b",
   "metadata": {},
   "outputs": [
    {
     "data": {
      "text/plain": [
       "{'Aragonite': 1.359295222837794,\n",
       " 'CH4(g)': -21.520262627647465,\n",
       " 'CO2(g)': -3.3010311978261866,\n",
       " 'Calcite': 1.5030650702300292,\n",
       " 'Fix_pH': -8.629212215133954,\n",
       " 'H2(g)': -11.046715641258274,\n",
       " 'H2O(g)': -1.5028233204748613,\n",
       " 'O2(g)': -61.192146977790756,\n",
       " 'Vaterite': 0.9366335760157298}"
      ]
     },
     "execution_count": 277,
     "metadata": {},
     "output_type": "execute_result"
    }
   ],
   "source": [
    "#get SI of the phases\n",
    "solution2.phases\n",
    "\n"
   ]
  },
  {
   "cell_type": "markdown",
   "id": "d29a8be3",
   "metadata": {},
   "source": [
    "# Reconstruction of the result"
   ]
  },
  {
   "cell_type": "markdown",
   "id": "f12d1b57",
   "metadata": {},
   "source": [
    "#Ksp\n",
    "solubility product"
   ]
  },
  {
   "cell_type": "raw",
   "id": "fef28afc",
   "metadata": {},
   "source": [
    "Calcite\n",
    "\tCaCO3 = CO3-2 + Ca+2\n",
    "\t-log_k\t-8.48\n",
    "\t-delta_h -2.297 kcal\n",
    "\t-analytic\t-171.9065\t-0.077993\t2839.319\t71.595\n",
    "\t-Vm 36.9 cm3/mol # MW (100.09 g/mol) / rho (2.71 g/cm3)\n",
    "Aragonite\n",
    "\tCaCO3 = CO3-2 + Ca+2\n",
    "\t-log_k\t-8.336\n",
    "\t-delta_h -2.589 kcal\n",
    "\t-analytic\t-171.9773\t-0.077993\t2903.293\t71.595\n",
    "\t-Vm 34.04\n",
    "Dolomite\n",
    "\tCaMg(CO3)2 = Ca+2 + Mg+2 + 2 CO3-2\n",
    "\t-log_k\t-17.09\n",
    "\t-delta_h  -9.436 kcal\n",
    "\t-Vm 64.5"
   ]
  },
  {
   "cell_type": "markdown",
   "id": "7aa076ab",
   "metadata": {},
   "source": [
    "Debye and Hückel developed the following equation to calculate the mean ionic activity coefficient γ±:\n",
    "\n",
    "$\\log\\gamma_{\\pm}=-\\dfrac{1.824\\times10^{6}}{(\\varepsilon T)^{3/2}}\\mid z_{+}z_{-}\\mid\\sqrt{I} \\label{1}$\n",
    "\n",
    "\n",
    "$\\log \\gamma_{\\pm}=-0.509\\mid z_{+}z_{-}\\mid\\sqrt{I} \\label{3}$\n",
    "\n",
    "Mean molality:\n",
    "\n",
    "ν is the stoichiometric coefficient of the ions\n",
    "\n",
    "$m_{\\pm}=(m_{+}^{\\nu+}m_{-}^{\\nu-})^{\\frac{1}{\\nu}} \\nonumber$"
   ]
  },
  {
   "cell_type": "code",
   "execution_count": 278,
   "id": "99ae46a3",
   "metadata": {},
   "outputs": [],
   "source": [
    "# Ksp of Calcite\n",
    "\n",
    "log_k=-8.336\n",
    "\n",
    "Ksp=10**log_k"
   ]
  },
  {
   "cell_type": "code",
   "execution_count": 279,
   "id": "320acd6e",
   "metadata": {},
   "outputs": [],
   "source": [
    "# saturation index\n",
    "\n",
    "# IAP = Ion activity product\n",
    "# SP= solubility product\n",
    "def SI(IAP,SP):\n",
    "    \n",
    "    saturation_index=np.log10((IAP/SP))\n",
    "    \n",
    "    return saturation_index\n",
    "\n",
    "def y(I,z_plus,z_minus):\n",
    "    Y=10**(-0.509*np.abs(z_plus*z_minus)*np.sqrt(I))\n",
    "\n",
    "    return Y\n",
    "\n",
    "\n",
    "def mean_m(c1,c2,v1,v2):\n",
    "    m=((c1**v1)*(c2**v2))**(1/(v1+v2))\n",
    "    \n",
    "    return m"
   ]
  },
  {
   "cell_type": "code",
   "execution_count": 280,
   "id": "258c8ab4",
   "metadata": {},
   "outputs": [],
   "source": [
    "# calcualate the IAP\n",
    "\n",
    "#'CO3-2': 2.5787579856073448e-05,\n",
    "# 'Ca+2': 0.001195571406233925,"
   ]
  },
  {
   "cell_type": "code",
   "execution_count": 281,
   "id": "051b1308",
   "metadata": {},
   "outputs": [
    {
     "data": {
      "text/plain": [
       "0.006498157574274969"
      ]
     },
     "execution_count": 281,
     "metadata": {},
     "output_type": "execute_result"
    }
   ],
   "source": [
    "c_CO3=solution2.species['CO3-2']\n",
    "\n",
    "c_Ca=solution2.species['Ca+2']\n",
    "\n",
    "\n",
    "\n",
    "# mean ionic molality\n",
    "\n",
    "# activity coefficient is needed\n",
    "\n",
    "# Get the ionic strength\n",
    "ionic_strength = solution2.I\n",
    "\n",
    "ionic_strength"
   ]
  },
  {
   "cell_type": "code",
   "execution_count": 282,
   "id": "e53fa492",
   "metadata": {},
   "outputs": [],
   "source": [
    "#calculate the ionic activty product\n",
    "\n",
    "# IAP =a_Ca2+ * a_CO32- = y*c_Ca2+ * y*c_CO32-\n",
    "\n",
    "IAP=(y(ionic_strength,2,2)**2)*(c_Ca*c_CO3)\n",
    "\n"
   ]
  },
  {
   "cell_type": "code",
   "execution_count": 283,
   "id": "0c5e8ada",
   "metadata": {},
   "outputs": [
    {
     "data": {
      "text/plain": [
       "1.3190261034998305"
      ]
     },
     "execution_count": 283,
     "metadata": {},
     "output_type": "execute_result"
    }
   ],
   "source": [
    "SI(IAP,Ksp)"
   ]
  },
  {
   "cell_type": "code",
   "execution_count": null,
   "id": "b97ae981",
   "metadata": {},
   "outputs": [],
   "source": []
  }
 ],
 "metadata": {
  "kernelspec": {
   "display_name": "Python 3 (ipykernel)",
   "language": "python",
   "name": "python3"
  },
  "language_info": {
   "codemirror_mode": {
    "name": "ipython",
    "version": 3
   },
   "file_extension": ".py",
   "mimetype": "text/x-python",
   "name": "python",
   "nbconvert_exporter": "python",
   "pygments_lexer": "ipython3",
   "version": "3.10.9"
  }
 },
 "nbformat": 4,
 "nbformat_minor": 5
}
