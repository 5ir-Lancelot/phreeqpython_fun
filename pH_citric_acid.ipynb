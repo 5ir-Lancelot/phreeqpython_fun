{
 "cells": [
  {
   "cell_type": "markdown",
   "id": "62009342",
   "metadata": {},
   "source": [
    "# Citric acid solution pH calculation"
   ]
  },
  {
   "cell_type": "code",
   "execution_count": 33,
   "id": "f83d2ec7",
   "metadata": {},
   "outputs": [],
   "source": [
    "from phreeqpython import PhreeqPython \n",
    "\n",
    "import numpy as np\n",
    "\n",
    "\n",
    "from matplotlib import pyplot as plt\n",
    "\n",
    "import pandas as  pd"
   ]
  },
  {
   "cell_type": "code",
   "execution_count": 34,
   "id": "bf9c641e",
   "metadata": {},
   "outputs": [],
   "source": [
    "# use the vitens database for all constants\n",
    "\n",
    "# create new PhreeqPython instance\n",
    "\n",
    "# important database containing the organic species\n",
    "pp = PhreeqPython(database='minteq.v4.dat')\n",
    "\n"
   ]
  },
  {
   "cell_type": "markdown",
   "id": "58d95595",
   "metadata": {},
   "source": [
    "## w/w to mmol/kg\n",
    "\n",
    "for solubility in water check https://en.wikipedia.org/wiki/Citric_acid\n",
    "\n",
    "59.2% w/w (20 °C)\n",
    "\n",
    "64.3% w/w (30 °C\n",
    "\n",
    "\n",
    "Molar Mass: 192.123 g/mol (anhydrous)"
   ]
  },
  {
   "cell_type": "code",
   "execution_count": 35,
   "id": "2342c91c",
   "metadata": {},
   "outputs": [],
   "source": [
    "saturation=64.3 \n",
    "\n",
    "# half of saturation \n",
    "\n",
    "#molar mass of citric acid\n",
    "M_citric_acid=192.123 # moles\n",
    "\n",
    "#target weight percentage\n",
    "percent=saturation/4\n",
    "\n",
    "target_mass=250 #g\n",
    "\n",
    "weight_powder=((percent)/100)*target_mass \n",
    "\n",
    "weight_water=target_mass-weight_powder\n",
    "\n",
    "moles=(((percent)/100)*target_mass)/M_citric_acid #moles \n",
    "\n",
    "# times 1000g\n",
    "moles_per_kilogram=(((percent)/100)*1000)/M_citric_acid\n"
   ]
  },
  {
   "cell_type": "code",
   "execution_count": 36,
   "id": "2b1ed7f2",
   "metadata": {},
   "outputs": [
    {
     "data": {
      "text/plain": [
       "40.1875"
      ]
     },
     "execution_count": 36,
     "metadata": {},
     "output_type": "execute_result"
    }
   ],
   "source": [
    "weight_powder"
   ]
  },
  {
   "cell_type": "code",
   "execution_count": 37,
   "id": "e958e842",
   "metadata": {},
   "outputs": [
    {
     "data": {
      "text/plain": [
       "209.8125"
      ]
     },
     "execution_count": 37,
     "metadata": {},
     "output_type": "execute_result"
    }
   ],
   "source": [
    "weight_water"
   ]
  },
  {
   "cell_type": "code",
   "execution_count": 38,
   "id": "4bd4dadf",
   "metadata": {},
   "outputs": [
    {
     "data": {
      "text/plain": [
       "16.075"
      ]
     },
     "execution_count": 38,
     "metadata": {},
     "output_type": "execute_result"
    }
   ],
   "source": [
    "percent "
   ]
  },
  {
   "cell_type": "code",
   "execution_count": 39,
   "id": "c4dc47a0",
   "metadata": {},
   "outputs": [
    {
     "data": {
      "text/plain": [
       "0.2091758925271831"
      ]
     },
     "execution_count": 39,
     "metadata": {},
     "output_type": "execute_result"
    }
   ],
   "source": [
    "moles"
   ]
  },
  {
   "cell_type": "code",
   "execution_count": 40,
   "id": "1da015e5",
   "metadata": {},
   "outputs": [
    {
     "data": {
      "text/plain": [
       "0.8367035701087324"
      ]
     },
     "execution_count": 40,
     "metadata": {},
     "output_type": "execute_result"
    }
   ],
   "source": [
    "moles_per_kilogram"
   ]
  },
  {
   "cell_type": "code",
   "execution_count": 41,
   "id": "b9d474bf",
   "metadata": {},
   "outputs": [],
   "source": [
    "#for differnt NaOH doses\n",
    "\n",
    "temp=10\n",
    "\n",
    "#concetration 50mmol/l 0.05mol/l\n",
    "c=10\n",
    "\n",
    "c_org_acid=moles_per_kilogram*1000 #mmol/kg\n",
    "\n",
    "#define the solution\n",
    "solution=pp.add_solution_simple({'H3(Citrate)':c_org_acid},temperature=temp, units='mmol')\n"
   ]
  },
  {
   "cell_type": "code",
   "execution_count": 42,
   "id": "746c0222",
   "metadata": {},
   "outputs": [
    {
     "data": {
      "text/plain": [
       "1.6203224889872798"
      ]
     },
     "execution_count": 42,
     "metadata": {},
     "output_type": "execute_result"
    }
   ],
   "source": [
    "# the pH of the solution\n",
    "solution.pH"
   ]
  },
  {
   "cell_type": "code",
   "execution_count": 43,
   "id": "8c384f44",
   "metadata": {},
   "outputs": [
    {
     "data": {
      "text/plain": [
       "{'Citrate-3': 1.1559966641007962e-09,\n",
       " 'H(Citrate)-2': 3.4363850760992094e-05,\n",
       " 'H+': 0.027981913520165477,\n",
       " 'H2': 0.0,\n",
       " 'H2(Citrate)-': 0.027913112872366034,\n",
       " 'H2O': 55.50683292169699,\n",
       " 'H3(Citrate)': 0.8087560922325315,\n",
       " 'O2': 3.2490232991707184e-17,\n",
       " 'OH-': 1.4753794034641398e-13}"
      ]
     },
     "execution_count": 43,
     "metadata": {},
     "output_type": "execute_result"
    }
   ],
   "source": [
    "solution.species"
   ]
  },
  {
   "cell_type": "code",
   "execution_count": 44,
   "id": "f30fbe61",
   "metadata": {},
   "outputs": [
    {
     "name": "stdout",
     "output_type": "stream",
     "text": [
      "Solution pH: 1.62\n",
      "Solution sc: 0.00\n",
      "Solution pe: 16.9\n",
      "Temperature: 10.0\n",
      "Mass:        1.0\n"
     ]
    }
   ],
   "source": [
    "# density of the solution\n",
    "\n",
    "#pe value conventional negative log of acitivity of the electron\n",
    "# pe charge \n",
    "\n",
    "print(\"Solution pH: {:.3}\".format(solution.pH))\n",
    "print(\"Solution sc: {:3.2f}\".format(solution.sc))\n",
    "print(\"Solution pe: {:.3}\".format(solution.pe))\n",
    "print(\"Temperature: {:.3}\".format(solution.temperature))\n",
    "print(\"Mass:        {:.3}\".format(solution.mass))\n",
    "\n",
    "#get density \n",
    "\n"
   ]
  },
  {
   "cell_type": "code",
   "execution_count": null,
   "id": "7d709179",
   "metadata": {},
   "outputs": [],
   "source": []
  },
  {
   "cell_type": "code",
   "execution_count": null,
   "id": "b54484ac",
   "metadata": {},
   "outputs": [],
   "source": []
  }
 ],
 "metadata": {
  "kernelspec": {
   "display_name": "Python 3 (ipykernel)",
   "language": "python",
   "name": "python3"
  },
  "language_info": {
   "codemirror_mode": {
    "name": "ipython",
    "version": 3
   },
   "file_extension": ".py",
   "mimetype": "text/x-python",
   "name": "python",
   "nbconvert_exporter": "python",
   "pygments_lexer": "ipython3",
   "version": "3.10.9"
  }
 },
 "nbformat": 4,
 "nbformat_minor": 5
}
