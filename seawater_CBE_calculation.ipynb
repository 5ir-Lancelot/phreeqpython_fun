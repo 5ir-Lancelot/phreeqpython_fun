{
 "cells": [
  {
   "cell_type": "markdown",
   "id": "56c394a3",
   "metadata": {},
   "source": [
    "# Seawater Charge Balance Error  "
   ]
  },
  {
   "cell_type": "code",
   "execution_count": 1,
   "id": "624d58af",
   "metadata": {},
   "outputs": [],
   "source": [
    "#titration plots for different solutions\n",
    "\n",
    "\n",
    "from phreeqpython import PhreeqPython \n",
    "\n",
    "import numpy as np\n",
    "\n",
    "\n",
    "from matplotlib import pyplot as plt\n",
    "\n",
    "import pandas as  pd\n",
    "\n",
    "\n",
    "#produce a solution with NaOH one in equilibrium with atmophere and the other one pure\n",
    "\n",
    "\n",
    "# use the vitens database for all constants\n",
    "\n",
    "# create new PhreeqPython instance\n",
    "pp = PhreeqPython(database='vitens.dat')"
   ]
  },
  {
   "cell_type": "code",
   "execution_count": 3,
   "id": "06775e98",
   "metadata": {},
   "outputs": [],
   "source": [
    "\n",
    "# some unecessary style settings\n",
    "\n",
    "plt.rcParams.update({'font.size': 22,\n",
    "                     #font.weight':'bold',\n",
    "                     'xtick.labelsize' : 18,\n",
    "                     'ytick.labelsize' : 18,\n",
    "                     'lines.linewidth' :  4,\n",
    "                     'axes.labelsize'  : 20.0,\n",
    "                     'axes.titlesize':  20,\n",
    "                     'figure.titlesize': 'x-large',\n",
    "                     'legend.fontsize': 18.0,})"
   ]
  },
  {
   "cell_type": "markdown",
   "id": "88ec91b8",
   "metadata": {},
   "source": [
    "# Total molar composition of seawater (salinity = 35)\n",
    "\n",
    "\n",
    "https://en.wikipedia.org/wiki/Seawater"
   ]
  },
  {
   "cell_type": "code",
   "execution_count": 20,
   "id": "78de3d35",
   "metadata": {},
   "outputs": [
    {
     "name": "stdout",
     "output_type": "stream",
     "text": [
      "0.00220498\n"
     ]
    }
   ],
   "source": [
    "#chloride\n",
    "cCl=0.546\n",
    "\n",
    "# Sodium\n",
    "cNa=0.469\n",
    "\n",
    "# Magnesium\n",
    "cMg=0.0528 \n",
    "\n",
    "# Sulfate \n",
    "cSO4=0.0282\n",
    "\n",
    "# Calcium\n",
    "cCa=0.0103\n",
    "\n",
    "#  pottasium\n",
    "cK=0.0102 \n",
    "\n",
    "# total inorganic carbon\n",
    "cDIC=0.00206 \n",
    "\n",
    "# bromium\n",
    "cBr=0.000844\n",
    "\n",
    "# total boron\n",
    "cBT=0.000416 \n",
    "\n",
    "# flouride\n",
    "cF=0.000068 \n",
    "\n",
    "#alkalinity\n",
    "cTA=2204.98*1e-6\n"
   ]
  },
  {
   "cell_type": "code",
   "execution_count": 18,
   "id": "ca00e01c",
   "metadata": {},
   "outputs": [],
   "source": [
    "# Complex, allowing for more 'standard' PHREEQC input (Phreeqc example 3 -- Mixing)\n",
    "solution = pp.add_solution({'units':'mol/kgw',\n",
    "                                 'density': 1.0236,\n",
    "                                 'temp': 25.0,\n",
    "                                 'Cl': 0.546,\n",
    "                                 'Na': 0.469,\n",
    "                                 'Mg': 0.0528 ,\n",
    "                                 'SO4':0.0282,\n",
    "                                 'Ca': 0.0103 ,\n",
    "                                 'K': 0.0102,\n",
    "                                 'C(4)':0.00206,\n",
    "                                 'B':0.000416 ,\n",
    "                                 'Br':0.000844,\n",
    "                                 'Sr':0.000091, \n",
    "                                 'F': 0.000068,\n",
    "                                 'pH': 8.22,\n",
    "                                })\n",
    "\n"
   ]
  },
  {
   "cell_type": "markdown",
   "id": "5ecf69d6",
   "metadata": {},
   "source": [
    "# Charge balance error calculation"
   ]
  },
  {
   "cell_type": "code",
   "execution_count": 26,
   "id": "7f2ea941",
   "metadata": {},
   "outputs": [
    {
     "name": "stdout",
     "output_type": "stream",
     "text": [
      "-0.009660447572553181\n"
     ]
    }
   ],
   "source": [
    "\n",
    "pos_charge=1*cNa+1*cK+2*cCa+2*cMg\n",
    "\n",
    "neg_charge=1*cCl+2*cSO4+1*cBr+1*cF+1*cTA\n",
    "\n",
    "\n",
    "CBE=(pos_charge-neg_charge)/(pos_charge+neg_charge)*100\n",
    "\n",
    "\n",
    "print(CBE)\n"
   ]
  },
  {
   "cell_type": "code",
   "execution_count": null,
   "id": "a189e425",
   "metadata": {},
   "outputs": [],
   "source": []
  }
 ],
 "metadata": {
  "kernelspec": {
   "display_name": "Python 3 (ipykernel)",
   "language": "python",
   "name": "python3"
  },
  "language_info": {
   "codemirror_mode": {
    "name": "ipython",
    "version": 3
   },
   "file_extension": ".py",
   "mimetype": "text/x-python",
   "name": "python",
   "nbconvert_exporter": "python",
   "pygments_lexer": "ipython3",
   "version": "3.10.13"
  }
 },
 "nbformat": 4,
 "nbformat_minor": 5
}
